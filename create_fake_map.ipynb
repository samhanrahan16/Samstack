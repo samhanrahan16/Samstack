{
 "cells": [
  {
   "cell_type": "code",
   "execution_count": 1,
   "metadata": {},
   "outputs": [
    {
     "name": "stdout",
     "output_type": "stream",
     "text": [
      "sf\n"
     ]
    }
   ],
   "source": [
    "from false_map import fake_map\n",
    "import parameters"
   ]
  },
  {
   "cell_type": "code",
   "execution_count": 2,
   "metadata": {},
   "outputs": [
    {
     "name": "stdout",
     "output_type": "stream",
     "text": [
      "sf\n",
      "sf\n"
     ]
    }
   ],
   "source": [
    "map_path_original = '/home/sam/Desktop/LSB/data/maps/HATLAS_NGP_DR2_RAW250_CUTOUT.FITS'\n",
    "noise_path_original = '/home/sam/Desktop/LSB/data/maps/HATLAS_NGP_DR2_SIGMA250_CUTOUT.FITS'\n",
    "param_file_path_1 = '/home/sam/Desktop/LSB/simstack-master/Parameters1.cfg'\n",
    "param_file_path_2 = '/home/sam/Desktop/LSB/simstack-master/Parameters2.cfg'\n",
    "output_file_location = '/home/sam/Desktop/LSB/data/maps'\n",
    "random_cat_location = '/home/sam/Desktop/LSB/data/cats'\n",
    "params_1 = parameters.get_params(param_file_path_1)\n",
    "params_2 = parameters.get_params(param_file_path_2)"
   ]
  },
  {
   "cell_type": "code",
   "execution_count": 3,
   "metadata": {},
   "outputs": [],
   "source": [
    "map_basis_1 = fake_map(map_path_original,noise_path_original,params_1,output_file_location,random_cat_location)\n",
    "map_basis_2 = fake_map(map_path_original,noise_path_original,params_2,output_file_location,random_cat_location)"
   ]
  },
  {
   "cell_type": "code",
   "execution_count": 4,
   "metadata": {},
   "outputs": [
    {
     "name": "stdout",
     "output_type": "stream",
     "text": [
      "4.751593e-05 mean noise value\n",
      "4.751593e-05 mean noise value\n",
      "     RA[deg]            DEC[deg]      Reff[arcsec] ... CLASS   z  \n",
      "------------------ ------------------ ------------ ... ----- -----\n",
      "195.20915820562323  28.10773278556736          4.0 ...     1 0.021\n",
      "195.14150873789484 29.312914200225915          4.0 ...     1 0.021\n",
      " 194.2489479557472 27.913721305472073          4.0 ...     1 0.021\n",
      "194.23745002896038  29.24417622230908          4.0 ...     1 0.021\n",
      "194.07394265286985  28.80290198559102          4.0 ...     1 0.021\n",
      "193.63629093789032  28.01877219792755          4.0 ...     1 0.021\n",
      "194.03654858492914 27.149372328983823          4.0 ...     1 0.021\n",
      "195.67399267642756  28.15460737312568          4.0 ...     1 0.021\n",
      "195.55672030227407  28.70137474902227          4.0 ...     1 0.021\n",
      "195.09439633252745 26.379182328407857          4.0 ...     1 0.021\n",
      "               ...                ...          ... ...   ...   ...\n",
      "194.23084536298887   27.1447109067081          4.0 ...     1 0.021\n",
      "194.75124532203043 29.305707958683918          4.0 ...     1 0.021\n",
      "195.52080990252313 26.417126152287484          4.0 ...     1 0.021\n",
      "195.26672747770883 28.303489281647707          4.0 ...     1 0.021\n",
      " 194.4945880681752 26.449079025279595          4.0 ...     1 0.021\n",
      "195.00803927744852 29.027713125017478          4.0 ...     1 0.021\n",
      "194.39417647750363  27.35697861321906          4.0 ...     1 0.021\n",
      "194.97165799389768 26.529853755478626          4.0 ...     1 0.021\n",
      "  194.124971650244 27.744019710981203          4.0 ...     1 0.021\n",
      "193.65131767880018 28.864724359001016          4.0 ...     1 0.021\n",
      "194.27176479168963 27.556746040395836          4.0 ...     1 0.021\n",
      "Length = 853 rows\n",
      "4.751593e-05 mean noise value\n",
      "     RA[deg]            DEC[deg]      Reff[arcsec] ... CLASS   z  \n",
      "------------------ ------------------ ------------ ... ----- -----\n",
      " 194.1389386261639 26.764495556138744          4.0 ...     1 0.021\n",
      "195.78888456567302 28.460905930717903          4.0 ...     1 0.021\n",
      "193.75398405701733 27.171094320935403          4.0 ...     1 0.021\n",
      "195.04509692127996 28.844124333865423          4.0 ...     1 0.021\n",
      " 195.7434762847981 27.015430062969497          4.0 ...     1 0.021\n",
      "195.42711548682837  27.46625519485477          4.0 ...     1 0.021\n",
      "194.47588505163233  26.69998270571311          4.0 ...     1 0.021\n",
      " 193.6709919267155  27.19518249153215          4.0 ...     1 0.021\n",
      "194.31446819887708 26.804093091636503          4.0 ...     1 0.021\n",
      " 194.5595006525149 26.766942355792622          4.0 ...     1 0.021\n",
      "               ...                ...          ... ...   ...   ...\n",
      "194.99800064792498 27.096511946416992          4.0 ...     1 0.021\n",
      "195.51842349208175 28.718968187357547          4.0 ...     1 0.021\n",
      "194.84772022926938 28.503995147842893          4.0 ...     1 0.021\n",
      "193.77905404916845  27.55936158325662          4.0 ...     1 0.021\n",
      "195.57903796954704 28.811478634700283          4.0 ...     1 0.021\n",
      "193.67127277517864 27.487887203326874          4.0 ...     1 0.021\n",
      "  194.260121448756 26.641236792898138          4.0 ...     1 0.021\n",
      "194.07563958012278 26.821009258609187          4.0 ...     1 0.021\n",
      "195.75499808582325  28.45203987464618          4.0 ...     1 0.021\n",
      "194.88005374711952 28.288606516524435          4.0 ...     1 0.021\n",
      "194.96046624101075 26.531282405738768          4.0 ...     1 0.021\n",
      "Length = 744 rows\n",
      "4.751593e-05 mean noise value\n"
     ]
    }
   ],
   "source": [
    "map_basis_1.create_fake_matrix_positions(1)\n",
    "map_basis_2.create_fake_matrix_positions(2)\n",
    "map_basis_1.create_fake_matrix_positions_random(1)\n",
    "map_basis_2.create_fake_matrix_positions_random(2)\n",
    "map_basis_1.create_fake_matrix_no_sources()"
   ]
  },
  {
   "cell_type": "markdown",
   "metadata": {},
   "source": [
    "# Test fake map"
   ]
  },
  {
   "cell_type": "code",
   "execution_count": 5,
   "metadata": {},
   "outputs": [],
   "source": [
    "file_path = '/home/sam/Desktop/LSB/data/maps/FAKE_MAP.FITS'"
   ]
  },
  {
   "cell_type": "code",
   "execution_count": 6,
   "metadata": {},
   "outputs": [],
   "source": [
    "from astropy.io import fits"
   ]
  },
  {
   "cell_type": "code",
   "execution_count": 7,
   "metadata": {},
   "outputs": [],
   "source": [
    "hdu_list = fits.open(file_path)"
   ]
  },
  {
   "cell_type": "code",
   "execution_count": 8,
   "metadata": {},
   "outputs": [],
   "source": [
    "hdu_original = fits.open(map_path_original)"
   ]
  },
  {
   "cell_type": "code",
   "execution_count": 9,
   "metadata": {},
   "outputs": [
    {
     "data": {
      "text/plain": [
       "SIMPLE  =                    T / conforms to FITS standard                      \n",
       "BITPIX  =                  -32 / array data type                                \n",
       "NAXIS   =                    2 / number of array dimensions                     \n",
       "NAXIS1  =                 1200                                                  \n",
       "NAXIS2  =                 1800                                                  \n",
       "WCSAXES =                    2 / Number of coordinate axes                      \n",
       "CRPIX1  =              -1134.0 / Pixel coordinate of reference point            \n",
       "CRPIX2  =               -189.0 / Pixel coordinate of reference point            \n",
       "CDELT1  =   -0.001666666666667 / [deg] Coordinate increment at reference point  \n",
       "CDELT2  =    0.001666666666667 / [deg] Coordinate increment at reference point  \n",
       "CUNIT1  = 'deg'                / Units of coordinate increment and value        \n",
       "CUNIT2  = 'deg'                / Units of coordinate increment and value        \n",
       "CTYPE1  = 'RA---TAN'           / Right ascension, gnomonic projection           \n",
       "CTYPE2  = 'DEC--TAN'           / Declination, gnomonic projection               \n",
       "CRVAL1  =      197.99294599559 / [deg] Coordinate value at reference point      \n",
       "CRVAL2  =      26.090059794022 / [deg] Coordinate value at reference point      \n",
       "LONPOLE =                180.0 / [deg] Native longitude of celestial pole       \n",
       "LATPOLE =      26.090059794022 / [deg] Native latitude of celestial pole        \n",
       "RADESYS = 'ICRS'               / Equatorial coordinate system                   "
      ]
     },
     "execution_count": 9,
     "metadata": {},
     "output_type": "execute_result"
    }
   ],
   "source": [
    "hdu_list[0].header"
   ]
  },
  {
   "cell_type": "code",
   "execution_count": 11,
   "metadata": {},
   "outputs": [],
   "source": [
    "header = hdu_original[0].header"
   ]
  },
  {
   "cell_type": "code",
   "execution_count": 13,
   "metadata": {},
   "outputs": [
    {
     "data": {
      "text/plain": [
       "SIMPLE  =                    T / conforms to FITS standard                      \n",
       "BITPIX  =                  -32 / array data type                                \n",
       "NAXIS   =                    2 / number of array dimensions                     \n",
       "NAXIS1  =                 1200                                                  \n",
       "NAXIS2  =                 1800                                                  \n",
       "WCSAXES =                    2 / Number of coordinate axes                      \n",
       "CRPIX1  =              -1134.0 / Pixel coordinate of reference point            \n",
       "CRPIX2  =               -189.0 / Pixel coordinate of reference point            \n",
       "CDELT1  =   -0.001666666666667 / [deg] Coordinate increment at reference point  \n",
       "CDELT2  =    0.001666666666667 / [deg] Coordinate increment at reference point  \n",
       "CUNIT1  = 'deg'                / Units of coordinate increment and value        \n",
       "CUNIT2  = 'deg'                / Units of coordinate increment and value        \n",
       "CTYPE1  = 'RA---TAN'           / Right ascension, gnomonic projection           \n",
       "CTYPE2  = 'DEC--TAN'           / Declination, gnomonic projection               \n",
       "CRVAL1  =      197.99294599559 / [deg] Coordinate value at reference point      \n",
       "CRVAL2  =      26.090059794022 / [deg] Coordinate value at reference point      \n",
       "LONPOLE =                180.0 / [deg] Native longitude of celestial pole       \n",
       "LATPOLE =      26.090059794022 / [deg] Native latitude of celestial pole        \n",
       "RADESYS = 'ICRS'               / Equatorial coordinate system                   "
      ]
     },
     "execution_count": 13,
     "metadata": {},
     "output_type": "execute_result"
    }
   ],
   "source": [
    "header"
   ]
  },
  {
   "cell_type": "code",
   "execution_count": null,
   "metadata": {},
   "outputs": [],
   "source": []
  }
 ],
 "metadata": {
  "kernelspec": {
   "display_name": "Python 2",
   "language": "python",
   "name": "python2"
  },
  "language_info": {
   "codemirror_mode": {
    "name": "ipython",
    "version": 2
   },
   "file_extension": ".py",
   "mimetype": "text/x-python",
   "name": "python",
   "nbconvert_exporter": "python",
   "pygments_lexer": "ipython2",
   "version": "2.7.15"
  }
 },
 "nbformat": 4,
 "nbformat_minor": 2
}
